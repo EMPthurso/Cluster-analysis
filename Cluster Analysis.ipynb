{
 "cells": [
  {
   "cell_type": "markdown",
   "metadata": {
    "id": "dgryeXlS-3jn"
   },
   "source": [
    "# Load the data"
   ]
  },
  {
   "cell_type": "code",
   "execution_count": 15,
   "metadata": {
    "colab": {
     "base_uri": "https://localhost:8080/",
     "height": 394
    },
    "id": "zSEcHsDQ-UVD",
    "outputId": "0cbcf9ac-d7ff-4940-b854-0ca81c973b26"
   },
   "outputs": [
    {
     "data": {
      "text/html": [
       "<div>\n",
       "<style scoped>\n",
       "    .dataframe tbody tr th:only-of-type {\n",
       "        vertical-align: middle;\n",
       "    }\n",
       "\n",
       "    .dataframe tbody tr th {\n",
       "        vertical-align: top;\n",
       "    }\n",
       "\n",
       "    .dataframe thead th {\n",
       "        text-align: right;\n",
       "    }\n",
       "</style>\n",
       "<table border=\"1\" class=\"dataframe\">\n",
       "  <thead>\n",
       "    <tr style=\"text-align: right;\">\n",
       "      <th></th>\n",
       "      <th>sys</th>\n",
       "      <th>mod</th>\n",
       "      <th>con_id</th>\n",
       "      <th>g_int_typ</th>\n",
       "      <th>g_ag_id</th>\n",
       "      <th>g_swn</th>\n",
       "      <th>g_bus_unit</th>\n",
       "      <th>gen_bus_uni_skill</th>\n",
       "      <th>gen_skill</th>\n",
       "      <th>last_session_flag</th>\n",
       "      <th>lump_sum_typ_service_Code</th>\n",
       "      <th>payment_reason_type</th>\n",
       "      <th>payment_amount</th>\n",
       "      <th>recommending_user_code</th>\n",
       "      <th>Legal_Name</th>\n",
       "    </tr>\n",
       "  </thead>\n",
       "  <tbody>\n",
       "    <tr>\n",
       "      <th>0</th>\n",
       "      <td>Gen&amp;Vet</td>\n",
       "      <td>01-Jan-20</td>\n",
       "      <td>b303153</td>\n",
       "      <td>inbound</td>\n",
       "      <td>pge001</td>\n",
       "      <td>abc134</td>\n",
       "      <td>WorkandIncome</td>\n",
       "      <td>WI_Appointments</td>\n",
       "      <td>WI_Gen_Advances</td>\n",
       "      <td>1</td>\n",
       "      <td>Hotels, Motels, Resorts</td>\n",
       "      <td>70</td>\n",
       "      <td>$330.00</td>\n",
       "      <td>HYAT</td>\n",
       "      <td>TWC</td>\n",
       "    </tr>\n",
       "    <tr>\n",
       "      <th>1</th>\n",
       "      <td>Gen&amp;Vet</td>\n",
       "      <td>05-Feb-20</td>\n",
       "      <td>b303154</td>\n",
       "      <td>outbound</td>\n",
       "      <td>avc003</td>\n",
       "      <td>abc135</td>\n",
       "      <td>WorkandIncome</td>\n",
       "      <td>WI_Appointments</td>\n",
       "      <td>WI_Appointments</td>\n",
       "      <td>1</td>\n",
       "      <td>Eating Places, Restaurants</td>\n",
       "      <td>856</td>\n",
       "      <td>$1,300.00</td>\n",
       "      <td>GEHU</td>\n",
       "      <td>BL</td>\n",
       "    </tr>\n",
       "    <tr>\n",
       "      <th>2</th>\n",
       "      <td>Gen</td>\n",
       "      <td>01-Sep-20</td>\n",
       "      <td>b303155</td>\n",
       "      <td>inbound</td>\n",
       "      <td>hgh005</td>\n",
       "      <td>abc136</td>\n",
       "      <td>WorkandIncome</td>\n",
       "      <td>WI_Appointments</td>\n",
       "      <td>WI_Appointments</td>\n",
       "      <td>1</td>\n",
       "      <td>Quick Payment Service-Fast-Food Restaurants</td>\n",
       "      <td>93</td>\n",
       "      <td>$1,400.00</td>\n",
       "      <td>OKAT</td>\n",
       "      <td>TPD</td>\n",
       "    </tr>\n",
       "    <tr>\n",
       "      <th>3</th>\n",
       "      <td>Gen&amp;Vet</td>\n",
       "      <td>01-Jul-20</td>\n",
       "      <td>b303156</td>\n",
       "      <td>outbound</td>\n",
       "      <td>kji005</td>\n",
       "      <td>abc137</td>\n",
       "      <td>WorkandIncome</td>\n",
       "      <td>WI_Appointments</td>\n",
       "      <td>WI_Appointments</td>\n",
       "      <td>1</td>\n",
       "      <td>Taxi Services</td>\n",
       "      <td>72</td>\n",
       "      <td>$1,400.00</td>\n",
       "      <td>GEHU</td>\n",
       "      <td>PKS</td>\n",
       "    </tr>\n",
       "    <tr>\n",
       "      <th>4</th>\n",
       "      <td>Gen</td>\n",
       "      <td>01-Jul-20</td>\n",
       "      <td>b303157</td>\n",
       "      <td>inbound</td>\n",
       "      <td>liy324</td>\n",
       "      <td>abc138</td>\n",
       "      <td>WorkandIncome</td>\n",
       "      <td>WI_Appointments</td>\n",
       "      <td>WI_Appointments</td>\n",
       "      <td>1</td>\n",
       "      <td>Hotels, Motels, Resorts</td>\n",
       "      <td>65</td>\n",
       "      <td>$1,100.00</td>\n",
       "      <td>LKUY</td>\n",
       "      <td>PKS</td>\n",
       "    </tr>\n",
       "  </tbody>\n",
       "</table>\n",
       "</div>"
      ],
      "text/plain": [
       "       sys        mod   con_id g_int_typ g_ag_id   g_swn     g_bus_unit  \\\n",
       "0  Gen&Vet  01-Jan-20  b303153   inbound  pge001  abc134  WorkandIncome   \n",
       "1  Gen&Vet  05-Feb-20  b303154  outbound  avc003  abc135  WorkandIncome   \n",
       "2      Gen  01-Sep-20  b303155   inbound  hgh005  abc136  WorkandIncome   \n",
       "3  Gen&Vet  01-Jul-20  b303156  outbound  kji005  abc137  WorkandIncome   \n",
       "4      Gen  01-Jul-20  b303157   inbound  liy324  abc138  WorkandIncome   \n",
       "\n",
       "  gen_bus_uni_skill        gen_skill  last_session_flag  \\\n",
       "0   WI_Appointments  WI_Gen_Advances                  1   \n",
       "1   WI_Appointments  WI_Appointments                  1   \n",
       "2   WI_Appointments  WI_Appointments                  1   \n",
       "3   WI_Appointments  WI_Appointments                  1   \n",
       "4   WI_Appointments  WI_Appointments                  1   \n",
       "\n",
       "                     lump_sum_typ_service_Code  payment_reason_type  \\\n",
       "0                      Hotels, Motels, Resorts                   70   \n",
       "1                   Eating Places, Restaurants                  856   \n",
       "2  Quick Payment Service-Fast-Food Restaurants                   93   \n",
       "3                                Taxi Services                   72   \n",
       "4                      Hotels, Motels, Resorts                   65   \n",
       "\n",
       "  payment_amount recommending_user_code Legal_Name  \n",
       "0        $330.00                   HYAT        TWC  \n",
       "1      $1,300.00                   GEHU         BL  \n",
       "2      $1,400.00                   OKAT        TPD  \n",
       "3      $1,400.00                   GEHU        PKS  \n",
       "4      $1,100.00                   LKUY        PKS  "
      ]
     },
     "execution_count": 15,
     "metadata": {},
     "output_type": "execute_result"
    }
   ],
   "source": [
    "import numpy as np\n",
    "import pandas as pd #Pandas lib\n",
    "\n",
    "data = pd.read_csv(\"book.csv\") #loading the csv data file\n",
    "data.head()"
   ]
  },
  {
   "cell_type": "code",
   "execution_count": 16,
   "metadata": {
    "colab": {
     "base_uri": "https://localhost:8080/"
    },
    "id": "V_W7cacN6qMl",
    "outputId": "8fbb2d22-fe3a-4f79-b536-598bffb968b9"
   },
   "outputs": [
    {
     "data": {
      "text/plain": [
       "Index(['sys', 'mod', 'con_id', 'g_int_typ', 'g_ag_id', 'g_swn', 'g_bus_unit',\n",
       "       'gen_bus_uni_skill', 'gen_skill', 'last_session_flag',\n",
       "       'lump_sum_typ_service_Code', 'payment_reason_type', 'payment_amount',\n",
       "       'recommending_user_code', 'Legal_Name'],\n",
       "      dtype='object')"
      ]
     },
     "execution_count": 16,
     "metadata": {},
     "output_type": "execute_result"
    }
   ],
   "source": [
    "data.columns"
   ]
  },
  {
   "cell_type": "code",
   "execution_count": 17,
   "metadata": {
    "id": "494-0eIfF_06"
   },
   "outputs": [],
   "source": [
    "# the payment amount column has string and dollar value \n",
    "# so we first remove the $ sign\n",
    "data['payment_amount'] = data['payment_amount'].str.replace('$',' ')\n",
    "# then we replace the , with empty space\n",
    "data['payment_amount'] = data['payment_amount'].str.replace(',','')\n",
    "# and convert the string column to the float column\n",
    "data[\"payment_amount\"] = pd.to_numeric(data[\"payment_amount\"], downcast=\"float\")"
   ]
  },
  {
   "cell_type": "code",
   "execution_count": 18,
   "metadata": {
    "colab": {
     "base_uri": "https://localhost:8080/",
     "height": 241
    },
    "id": "FBLvQUtN_IwK",
    "outputId": "21aac16c-984a-488e-fc96-26473f7030c2"
   },
   "outputs": [
    {
     "data": {
      "text/html": [
       "<div>\n",
       "<style scoped>\n",
       "    .dataframe tbody tr th:only-of-type {\n",
       "        vertical-align: middle;\n",
       "    }\n",
       "\n",
       "    .dataframe tbody tr th {\n",
       "        vertical-align: top;\n",
       "    }\n",
       "\n",
       "    .dataframe thead th {\n",
       "        text-align: right;\n",
       "    }\n",
       "</style>\n",
       "<table border=\"1\" class=\"dataframe\">\n",
       "  <thead>\n",
       "    <tr style=\"text-align: right;\">\n",
       "      <th></th>\n",
       "      <th>sys</th>\n",
       "      <th>g_int_typ</th>\n",
       "      <th>g_bus_unit</th>\n",
       "      <th>gen_skill</th>\n",
       "      <th>lump_sum_typ_service_Code</th>\n",
       "      <th>payment_reason_type</th>\n",
       "      <th>payment_amount</th>\n",
       "      <th>recommending_user_code</th>\n",
       "      <th>Legal_Name</th>\n",
       "    </tr>\n",
       "  </thead>\n",
       "  <tbody>\n",
       "    <tr>\n",
       "      <th>0</th>\n",
       "      <td>Gen&amp;Vet</td>\n",
       "      <td>inbound</td>\n",
       "      <td>WorkandIncome</td>\n",
       "      <td>WI_Gen_Advances</td>\n",
       "      <td>Hotels, Motels, Resorts</td>\n",
       "      <td>70</td>\n",
       "      <td>330.0</td>\n",
       "      <td>HYAT</td>\n",
       "      <td>TWC</td>\n",
       "    </tr>\n",
       "    <tr>\n",
       "      <th>1</th>\n",
       "      <td>Gen&amp;Vet</td>\n",
       "      <td>outbound</td>\n",
       "      <td>WorkandIncome</td>\n",
       "      <td>WI_Appointments</td>\n",
       "      <td>Eating Places, Restaurants</td>\n",
       "      <td>856</td>\n",
       "      <td>1300.0</td>\n",
       "      <td>GEHU</td>\n",
       "      <td>BL</td>\n",
       "    </tr>\n",
       "    <tr>\n",
       "      <th>2</th>\n",
       "      <td>Gen</td>\n",
       "      <td>inbound</td>\n",
       "      <td>WorkandIncome</td>\n",
       "      <td>WI_Appointments</td>\n",
       "      <td>Quick Payment Service-Fast-Food Restaurants</td>\n",
       "      <td>93</td>\n",
       "      <td>1400.0</td>\n",
       "      <td>OKAT</td>\n",
       "      <td>TPD</td>\n",
       "    </tr>\n",
       "    <tr>\n",
       "      <th>3</th>\n",
       "      <td>Gen&amp;Vet</td>\n",
       "      <td>outbound</td>\n",
       "      <td>WorkandIncome</td>\n",
       "      <td>WI_Appointments</td>\n",
       "      <td>Taxi Services</td>\n",
       "      <td>72</td>\n",
       "      <td>1400.0</td>\n",
       "      <td>GEHU</td>\n",
       "      <td>PKS</td>\n",
       "    </tr>\n",
       "    <tr>\n",
       "      <th>4</th>\n",
       "      <td>Gen</td>\n",
       "      <td>inbound</td>\n",
       "      <td>WorkandIncome</td>\n",
       "      <td>WI_Appointments</td>\n",
       "      <td>Hotels, Motels, Resorts</td>\n",
       "      <td>65</td>\n",
       "      <td>1100.0</td>\n",
       "      <td>LKUY</td>\n",
       "      <td>PKS</td>\n",
       "    </tr>\n",
       "  </tbody>\n",
       "</table>\n",
       "</div>"
      ],
      "text/plain": [
       "       sys g_int_typ     g_bus_unit        gen_skill  \\\n",
       "0  Gen&Vet   inbound  WorkandIncome  WI_Gen_Advances   \n",
       "1  Gen&Vet  outbound  WorkandIncome  WI_Appointments   \n",
       "2      Gen   inbound  WorkandIncome  WI_Appointments   \n",
       "3  Gen&Vet  outbound  WorkandIncome  WI_Appointments   \n",
       "4      Gen   inbound  WorkandIncome  WI_Appointments   \n",
       "\n",
       "                     lump_sum_typ_service_Code  payment_reason_type  \\\n",
       "0                      Hotels, Motels, Resorts                   70   \n",
       "1                   Eating Places, Restaurants                  856   \n",
       "2  Quick Payment Service-Fast-Food Restaurants                   93   \n",
       "3                                Taxi Services                   72   \n",
       "4                      Hotels, Motels, Resorts                   65   \n",
       "\n",
       "   payment_amount recommending_user_code Legal_Name  \n",
       "0           330.0                   HYAT        TWC  \n",
       "1          1300.0                   GEHU         BL  \n",
       "2          1400.0                   OKAT        TPD  \n",
       "3          1400.0                   GEHU        PKS  \n",
       "4          1100.0                   LKUY        PKS  "
      ]
     },
     "execution_count": 18,
     "metadata": {},
     "output_type": "execute_result"
    }
   ],
   "source": [
    "#seperating the features and class labels\n",
    "# columns like 'g_ag_id','con_id','mod','g_swn', 'last_session_flag' are ids and flag that can be removed\n",
    "features = data.drop(['g_ag_id','con_id','mod','g_swn', 'last_session_flag','gen_bus_uni_skill'],1)\n",
    "features.head()"
   ]
  },
  {
   "cell_type": "code",
   "execution_count": 19,
   "metadata": {},
   "outputs": [],
   "source": [
    "df = pd.DataFrame()\n",
    "for idx, col in enumerate(data.columns):\n",
    "    df.loc[col, \"nunique\"] = data[col].nunique()\n",
    "    df.loc[col,\"unique\"]  = str(data[col].unique())"
   ]
  },
  {
   "cell_type": "markdown",
   "metadata": {
    "id": "0ChuUV4yAyFx"
   },
   "source": [
    "# One Hot encoding to categorical columns"
   ]
  },
  {
   "cell_type": "code",
   "execution_count": 20,
   "metadata": {},
   "outputs": [
    {
     "data": {
      "text/plain": [
       "Index(['sys', 'mod', 'con_id', 'g_int_typ', 'g_ag_id', 'g_swn', 'g_bus_unit',\n",
       "       'gen_bus_uni_skill', 'gen_skill', 'last_session_flag',\n",
       "       'lump_sum_typ_service_Code', 'payment_reason_type', 'payment_amount',\n",
       "       'recommending_user_code', 'Legal_Name'],\n",
       "      dtype='object')"
      ]
     },
     "execution_count": 20,
     "metadata": {},
     "output_type": "execute_result"
    }
   ],
   "source": [
    "data.columns"
   ]
  },
  {
   "cell_type": "code",
   "execution_count": 21,
   "metadata": {},
   "outputs": [],
   "source": [
    "cols = [\"sys\",\"g_int_typ\",\"g_bus_unit\",\"gen_bus_uni_skill\",\n",
    "        \"gen_skill\",\"last_session_flag\",\"recommending_user_code\",\"Legal_Name\"]\n",
    "\n",
    "#d = pd.get_dummies(data,drop_first=True,columns=cols)"
   ]
  },
  {
   "cell_type": "code",
   "execution_count": 22,
   "metadata": {},
   "outputs": [],
   "source": [
    "from sklearn.preprocessing import LabelEncoder"
   ]
  },
  {
   "cell_type": "code",
   "execution_count": 23,
   "metadata": {},
   "outputs": [],
   "source": [
    "for col in cols:\n",
    "    le = LabelEncoder()\n",
    "    data[col] = le.fit_transform(data[col])"
   ]
  },
  {
   "cell_type": "code",
   "execution_count": 24,
   "metadata": {},
   "outputs": [],
   "source": [
    "num_cols = ['payment_reason_type','payment_amount']\n",
    "cols.extend(num_cols)"
   ]
  },
  {
   "cell_type": "markdown",
   "metadata": {
    "id": "NPlrGAiVES2L"
   },
   "source": [
    "# Standardization of data frame"
   ]
  },
  {
   "cell_type": "code",
   "execution_count": 25,
   "metadata": {
    "id": "Bl_ojc_eERQB"
   },
   "outputs": [],
   "source": [
    "from sklearn.preprocessing import StandardScaler, MinMaxScaler #standard scaler\n",
    "\n",
    "# standard scaling the features\n",
    "sc = StandardScaler()\n",
    "\n",
    "data[num_cols] = sc.fit_transform(data[num_cols]) #standard scaling"
   ]
  },
  {
   "cell_type": "markdown",
   "metadata": {},
   "source": [
    "### K-KPrototypes clustering as there are mixed types in the data"
   ]
  },
  {
   "cell_type": "code",
   "execution_count": 26,
   "metadata": {},
   "outputs": [],
   "source": [
    "from kmodes.kprototypes import KPrototypes"
   ]
  },
  {
   "cell_type": "code",
   "execution_count": 27,
   "metadata": {},
   "outputs": [],
   "source": [
    "import matplotlib.pyplot as plt"
   ]
  },
  {
   "cell_type": "code",
   "execution_count": 28,
   "metadata": {},
   "outputs": [],
   "source": [
    "#Hopkins Statistic is a way of measuring the cluster tendency of a data set.\n",
    "from sklearn.neighbors import NearestNeighbors\n",
    "from random import sample\n",
    "from numpy.random import uniform\n",
    "import numpy as np\n",
    "from math import isnan\n",
    " \n",
    "def hopkins(X):\n",
    "    d = X.shape[1]\n",
    "    #d = len(vars) # columns\n",
    "    n = len(X) # rows\n",
    "    m = int(0.1 * n) # heuristic from article [1]\n",
    "    nbrs = NearestNeighbors(n_neighbors=1).fit(X.values)\n",
    " \n",
    "    rand_X = sample(range(0, n, 1), m)\n",
    " \n",
    "    ujd = []\n",
    "    wjd = []\n",
    "    for j in range(0, m):\n",
    "        u_dist, _ = nbrs.kneighbors(uniform(np.amin(X,axis=0),np.amax(X,axis=0),d).reshape(1, -1), 2, return_distance=True)\n",
    "        ujd.append(u_dist[0][1])\n",
    "        w_dist, _ = nbrs.kneighbors(X.iloc[rand_X[j]].values.reshape(1, -1), 2, return_distance=True)\n",
    "        wjd.append(w_dist[0][1])\n",
    " \n",
    "    H = sum(ujd) / (sum(ujd) + sum(wjd))\n",
    "    if isnan(H):\n",
    "        print(ujd, wjd)\n",
    "        H = 0\n",
    " \n",
    "    return H"
   ]
  },
  {
   "cell_type": "code",
   "execution_count": 29,
   "metadata": {},
   "outputs": [],
   "source": [
    "#Choosing optimal K value\n",
    "cost = []\n",
    "X = data[cols]\n",
    "k = []\n",
    "for num_clusters in list(range(2,5)):\n",
    "    k.append(num_clusters)\n",
    "    kproto = KPrototypes(n_clusters=num_clusters, init='Huang', random_state=42,n_jobs=-2,max_iter=100,n_init=50) \n",
    "    kproto.fit_predict(X, categorical=list(range(7)))\n",
    "    cost.append(kproto.cost_)"
   ]
  },
  {
   "cell_type": "code",
   "execution_count": 30,
   "metadata": {},
   "outputs": [
    {
     "data": {
      "text/plain": [
       "Text(0, 0.5, 'cost')"
      ]
     },
     "execution_count": 30,
     "metadata": {},
     "output_type": "execute_result"
    },
    {
     "data": {
      "image/png": "[encoded data removed]",
      "text/plain": [
       "<Figure size 432x288 with 1 Axes>"
      ]
     },
     "metadata": {
      "needs_background": "light"
     },
     "output_type": "display_data"
    }
   ],
   "source": [
    "plt.plot(k, cost)\n",
    "plt.xlabel('K')\n",
    "plt.ylabel('cost')"
   ]
  },
  {
   "cell_type": "code",
   "execution_count": 31,
   "metadata": {},
   "outputs": [],
   "source": [
    "# Running K-Prototype clustering\n",
    "kproto = KPrototypes(n_clusters=6, init='Huang', verbose=0, random_state=42,max_iter=20, n_init=50,n_jobs=-2,gamma=.75) \n",
    "clusters = kproto.fit_predict(X, categorical=list(range(7)))"
   ]
  },
  {
   "cell_type": "code",
   "execution_count": 32,
   "metadata": {},
   "outputs": [
    {
     "name": "stderr",
     "output_type": "stream",
     "text": [
      "<ipython-input-32-07f1accaeac3>:1: SettingWithCopyWarning: \n",
      "A value is trying to be set on a copy of a slice from a DataFrame.\n",
      "Try using .loc[row_indexer,col_indexer] = value instead\n",
      "\n",
      "See the caveats in the documentation: https://pandas.pydata.org/pandas-docs/stable/user_guide/indexing.html#returning-a-view-versus-a-copy\n",
      "  X[\"Cluster_id\"] = clusters\n"
     ]
    }
   ],
   "source": [
    "X[\"Cluster_id\"] = clusters"
   ]
  },
  {
   "cell_type": "code",
   "execution_count": 33,
   "metadata": {},
   "outputs": [],
   "source": [
    "import seaborn as sns"
   ]
  },
  {
   "cell_type": "code",
   "execution_count": 34,
   "metadata": {},
   "outputs": [],
   "source": [
    "from sklearn.manifold import TSNE\n",
    "from sklearn.decomposition import PCA"
   ]
  },
  {
   "cell_type": "code",
   "execution_count": 35,
   "metadata": {},
   "outputs": [
    {
     "name": "stderr",
     "output_type": "stream",
     "text": [
      "C:\\Users\\deban\\anaconda3\\lib\\site-packages\\sklearn\\manifold\\_t_sne.py:691: FutureWarning: 'square_distances' has been introduced in 0.24 to help phase out legacy squaring behavior. The 'legacy' setting will be removed in 1.1 (renaming of 0.26), and the default setting will be changed to True. In 1.3, 'square_distances' will be removed altogether, and distances will be squared by default. Set 'square_distances'=True to silence this warning.\n",
      "  warnings.warn(\n"
     ]
    }
   ],
   "source": [
    "X_embedded = TSNE(n_components=2,metric = \"cosine\", random_state=0).fit_transform(X.iloc[:,:-1])"
   ]
  },
  {
   "cell_type": "code",
   "execution_count": 36,
   "metadata": {},
   "outputs": [
    {
     "data": {
      "text/plain": [
       "array([[ 9.8850832e+00,  7.8428096e-01],\n",
       "       [ 1.2980024e+01,  1.9779547e+00],\n",
       "       [ 1.1304504e+01,  1.9362381e-01],\n",
       "       [ 1.2281340e+01,  2.8274708e+00],\n",
       "       [ 1.1466292e+01,  1.5761651e-01],\n",
       "       [ 1.2332729e+01,  3.5418913e+00],\n",
       "       [ 1.2127804e+01,  2.2969036e+00],\n",
       "       [ 1.1701176e+01,  5.1535243e-01],\n",
       "       [ 1.1649290e+01,  2.1006322e-01],\n",
       "       [ 1.1483247e+01, -2.0340005e-02],\n",
       "       [ 1.1497316e+01, -3.2635480e-03],\n",
       "       [ 1.2456665e+01,  4.0397081e+00],\n",
       "       [ 1.2266239e+01,  3.7277429e+00],\n",
       "       [ 1.2465957e+01,  3.9716887e+00],\n",
       "       [ 5.7960682e+00,  7.5184546e+00],\n",
       "       [ 4.7236757e+00,  8.2621050e+00],\n",
       "       [ 5.2728672e+00,  8.2662811e+00],\n",
       "       [ 7.4312224e+00,  9.4736443e+00],\n",
       "       [ 7.7047577e+00,  9.3046064e+00],\n",
       "       [ 8.2017698e+00,  8.8290300e+00],\n",
       "       [ 8.5174274e+00,  8.6211796e+00],\n",
       "       [ 8.5587454e+00,  8.4366674e+00],\n",
       "       [ 8.7047300e+00,  9.2707834e+00],\n",
       "       [ 8.9561796e+00,  9.1094561e+00],\n",
       "       [ 9.1558619e+00,  9.4690437e+00],\n",
       "       [ 9.1573505e+00,  8.8297739e+00],\n",
       "       [ 7.4802232e+00,  8.3305054e+00],\n",
       "       [ 8.9287481e+00,  5.1359124e+00],\n",
       "       [ 6.9909182e+00,  6.4819870e+00],\n",
       "       [ 5.9471312e+00,  4.3880200e+00],\n",
       "       [ 4.4820170e+00,  5.3645892e+00],\n",
       "       [ 6.2609444e+00,  5.0142565e+00],\n",
       "       [ 7.8203101e+00,  6.1288142e+00],\n",
       "       [ 6.6053720e+00,  5.0584192e+00],\n",
       "       [ 7.0951061e+00,  5.9285183e+00],\n",
       "       [ 6.6490593e+00,  5.0654745e+00],\n",
       "       [ 6.6027651e+00,  5.8418946e+00],\n",
       "       [ 7.4015989e+00,  5.3593688e+00],\n",
       "       [ 8.2079353e+00,  6.3045392e+00],\n",
       "       [ 7.9458895e+00,  7.6299706e+00],\n",
       "       [ 6.1368208e+00,  6.4967418e+00],\n",
       "       [ 8.9515257e+00,  7.4804454e+00],\n",
       "       [ 5.3595009e+00,  6.1011600e+00],\n",
       "       [ 5.2432675e+00,  5.2574973e+00],\n",
       "       [ 4.7703056e+00,  6.0817876e+00],\n",
       "       [ 5.6377664e+00,  5.3480868e+00],\n",
       "       [ 5.1542296e+00,  5.8238673e+00],\n",
       "       [ 5.5489521e+00,  5.3251309e+00],\n",
       "       [ 7.9908504e+00,  6.6149149e+00],\n",
       "       [ 9.3600321e+00,  6.9887767e+00],\n",
       "       [ 9.6602116e+00,  5.8431430e+00],\n",
       "       [ 8.4301071e+00,  7.4066267e+00],\n",
       "       [ 6.1535139e+00,  6.3200583e+00],\n",
       "       [ 6.2754035e+00,  5.8732061e+00],\n",
       "       [ 8.8135452e+00,  7.3683138e+00],\n",
       "       [ 4.2010560e+00,  1.9480383e+00],\n",
       "       [ 4.7196641e+00,  4.7042456e+00],\n",
       "       [ 9.7990284e+00,  6.6057634e+00],\n",
       "       [ 3.9754286e+00,  1.7150042e+00],\n",
       "       [ 3.9768393e+00,  1.1609983e+00],\n",
       "       [ 4.1823373e+00,  2.1322513e+00],\n",
       "       [ 4.3416848e+00,  2.0382912e+00],\n",
       "       [ 4.1769867e+00,  2.1288662e+00],\n",
       "       [ 7.0690236e+00, -1.8175102e+00],\n",
       "       [ 5.7903919e+00, -1.8827909e+00],\n",
       "       [ 6.5889163e+00, -1.6259543e+00],\n",
       "       [ 6.1214399e+00, -2.3028798e+00],\n",
       "       [ 5.6872067e+00, -1.1808236e+00],\n",
       "       [ 6.1245241e+00, -2.2459407e+00],\n",
       "       [ 6.5410666e+00, -1.6210309e+00],\n",
       "       [ 5.8661375e+00, -1.9651021e+00],\n",
       "       [ 6.6953702e+00, -1.5438023e+00],\n",
       "       [ 6.2637711e+00, -2.8314688e+00],\n",
       "       [ 6.7987213e+00, -2.0119221e+00],\n",
       "       [ 6.3659286e+00, -2.5532901e+00],\n",
       "       [ 7.4816008e+00, -2.3038487e+00],\n",
       "       [ 6.9996934e+00, -2.8616281e+00],\n",
       "       [ 7.7264075e+00, -2.7712834e+00],\n",
       "       [ 7.3018055e+00, -3.1660912e+00],\n",
       "       [ 7.6916504e+00, -2.7425516e+00],\n",
       "       [ 7.7777176e+00, -3.4547751e+00],\n",
       "       [ 8.0192184e+00, -3.2403669e+00],\n",
       "       [ 9.0413370e+00, -2.0722861e+00],\n",
       "       [ 8.5807524e+00, -7.5759560e-01],\n",
       "       [ 8.5843849e+00, -7.5016785e-01],\n",
       "       [ 8.5694427e+00, -7.4654818e-01],\n",
       "       [ 8.8579998e+00,  2.2138920e+00],\n",
       "       [ 8.9463577e+00, -3.3891305e-01],\n",
       "       [ 8.9534931e+00, -3.4421754e-01],\n",
       "       [ 4.2248278e+00,  5.7246985e+00],\n",
       "       [ 8.2080717e+00,  2.6990852e-01],\n",
       "       [ 4.0704088e+00,  7.3602138e+00],\n",
       "       [ 8.3730698e+00,  8.5749505e-03],\n",
       "       [ 3.8101275e+00,  6.6065397e+00],\n",
       "       [ 3.7260253e+00,  6.5166702e+00],\n",
       "       [ 3.9148905e+00,  6.7450490e+00],\n",
       "       [ 8.2161961e+00,  2.7561072e-01],\n",
       "       [ 8.7502108e+00,  2.2332492e+00],\n",
       "       [ 8.7216873e+00,  2.2092562e+00]], dtype=float32)"
      ]
     },
     "execution_count": 36,
     "metadata": {},
     "output_type": "execute_result"
    }
   ],
   "source": [
    "\n",
    "X_embedded"
   ]
  },
  {
   "cell_type": "code",
   "execution_count": 37,
   "metadata": {},
   "outputs": [
    {
     "data": {
      "text/plain": [
       "array([[ 9.885083  ,  0.78428096],\n",
       "       [12.980024  ,  1.9779547 ],\n",
       "       [11.304504  ,  0.19362381],\n",
       "       [12.28134   ,  2.8274708 ],\n",
       "       [11.466292  ,  0.15761651]], dtype=float32)"
      ]
     },
     "execution_count": 37,
     "metadata": {},
     "output_type": "execute_result"
    }
   ],
   "source": [
    "X_embedded[:5,:]"
   ]
  },
  {
   "cell_type": "code",
   "execution_count": 38,
   "metadata": {},
   "outputs": [
    {
     "data": {
      "text/plain": [
       "array([ 9.885083 , 12.980024 , 11.304504 , 12.28134  , 11.466292 ,\n",
       "       12.332729 , 12.127804 , 11.701176 , 11.64929  , 11.483247 ,\n",
       "       11.497316 , 12.456665 , 12.266239 , 12.465957 ,  5.796068 ,\n",
       "        4.7236757,  5.272867 ,  7.4312224,  7.7047577,  8.20177  ,\n",
       "        8.517427 ,  8.558745 ,  8.70473  ,  8.95618  ,  9.155862 ,\n",
       "        9.157351 ,  7.480223 ,  8.928748 ,  6.990918 ,  5.947131 ,\n",
       "        4.482017 ,  6.2609444,  7.82031  ,  6.605372 ,  7.095106 ,\n",
       "        6.6490593,  6.602765 ,  7.401599 ,  8.207935 ,  7.9458895,\n",
       "        6.136821 ,  8.951526 ,  5.359501 ,  5.2432675,  4.7703056,\n",
       "        5.6377664,  5.1542296,  5.548952 ,  7.9908504,  9.360032 ,\n",
       "        9.660212 ,  8.430107 ,  6.153514 ,  6.2754035,  8.813545 ,\n",
       "        4.201056 ,  4.719664 ,  9.799028 ,  3.9754286,  3.9768393,\n",
       "        4.1823373,  4.341685 ,  4.1769867,  7.0690236,  5.790392 ,\n",
       "        6.5889163,  6.12144  ,  5.6872067,  6.124524 ,  6.5410666,\n",
       "        5.8661375,  6.69537  ,  6.263771 ,  6.7987213,  6.3659286,\n",
       "        7.4816008,  6.9996934,  7.7264075,  7.3018055,  7.6916504,\n",
       "        7.7777176,  8.019218 ,  9.041337 ,  8.580752 ,  8.584385 ,\n",
       "        8.569443 ,  8.858    ,  8.946358 ,  8.953493 ,  4.224828 ,\n",
       "        8.208072 ,  4.070409 ,  8.37307  ,  3.8101275,  3.7260253,\n",
       "        3.9148905,  8.216196 ,  8.750211 ,  8.721687 ], dtype=float32)"
      ]
     },
     "execution_count": 38,
     "metadata": {},
     "output_type": "execute_result"
    }
   ],
   "source": [
    "X_embedded[:, 0]"
   ]
  },
  {
   "cell_type": "code",
   "execution_count": 39,
   "metadata": {},
   "outputs": [
    {
     "data": {
      "text/plain": [
       "array([ 9.885083, 12.980024, 11.304504, 12.28134 , 11.466292],\n",
       "      dtype=float32)"
      ]
     },
     "execution_count": 39,
     "metadata": {},
     "output_type": "execute_result"
    }
   ],
   "source": [
    "a=X_embedded[:, 0]\n",
    "b=a[:5]\n",
    "b"
   ]
  },
  {
   "cell_type": "code",
   "execution_count": 40,
   "metadata": {
    "colab": {
     "base_uri": "https://localhost:8080/",
     "height": 281
    },
    "id": "qyrX-LdGWPc3",
    "outputId": "4f517be7-4453-4d54-993c-d09c9e0f2f7f"
   },
   "outputs": [
    {
     "data": {
      "image/png": "[encoded data removed]",
      "text/plain": [
       "<Figure size 432x288 with 1 Axes>"
      ]
     },
     "metadata": {
      "needs_background": "light"
     },
     "output_type": "display_data"
    }
   ],
   "source": [
    "# Plotting the cluster centers \n",
    "#plt.style.use('fivethirtyeight')\n",
    "sns.scatterplot(x= X_embedded[:, 0],y = X_embedded[:, -1], hue = X[\"Cluster_id\"], palette= \"viridis\")\n",
    "plt.show()"
   ]
  },
  {
   "cell_type": "code",
   "execution_count": 27,
   "metadata": {},
   "outputs": [],
   "source": [
    "features[\"Cluster_id\"] = clusters"
   ]
  },
  {
   "cell_type": "markdown",
   "metadata": {
    "id": "GluDjb-TZFUE"
   },
   "source": [
    "# **Data Analysis**"
   ]
  },
  {
   "cell_type": "code",
   "execution_count": 28,
   "metadata": {},
   "outputs": [
    {
     "data": {
      "text/plain": [
       "<AxesSubplot:xlabel='Cluster_id', ylabel='payment_amount'>"
      ]
     },
     "execution_count": 28,
     "metadata": {},
     "output_type": "execute_result"
    },
    {
     "data": {
      "image/png": "[encoded data removed]",
      "text/plain": [
       "<Figure size 432x288 with 1 Axes>"
      ]
     },
     "metadata": {
      "needs_background": "light"
     },
     "output_type": "display_data"
    }
   ],
   "source": [
    "sns.boxplot(y = \"payment_amount\", data = features, x = \"Cluster_id\")"
   ]
  },
  {
   "cell_type": "code",
   "execution_count": 29,
   "metadata": {},
   "outputs": [],
   "source": [
    "cols = ['sys',\n",
    " 'g_int_typ',\n",
    " 'g_bus_unit',\n",
    " 'gen_skill',\n",
    " 'last_session_flag',\n",
    " 'recommending_user_code',\n",
    " 'Legal_Name']"
   ]
  },
  {
   "cell_type": "code",
   "execution_count": 30,
   "metadata": {},
   "outputs": [],
   "source": [
    "data[\"Cluster_id\"] = clusters"
   ]
  },
  {
   "cell_type": "code",
   "execution_count": 31,
   "metadata": {
    "scrolled": false
   },
   "outputs": [
    {
     "data": {
      "image/png": "[encoded data removed]",
      "text/plain": [
       "<Figure size 1440x360 with 1 Axes>"
      ]
     },
     "metadata": {
      "needs_background": "light"
     },
     "output_type": "display_data"
    },
    {
     "data": {
      "image/png": "[encoded data removed]",
      "text/plain": [
       "<Figure size 1440x360 with 1 Axes>"
      ]
     },
     "metadata": {
      "needs_background": "light"
     },
     "output_type": "display_data"
    },
    {
     "data": {
      "image/png": "[encoded data removed]",
      "text/plain": [
       "<Figure size 1440x360 with 1 Axes>"
      ]
     },
     "metadata": {
      "needs_background": "light"
     },
     "output_type": "display_data"
    },
    {
     "data": {
      "image/png": "[encoded data removed]",
      "text/plain": [
       "<Figure size 1440x360 with 1 Axes>"
      ]
     },
     "metadata": {
      "needs_background": "light"
     },
     "output_type": "display_data"
    },
    {
     "data": {
      "image/png": "[encoded data removed]",
      "text/plain": [
       "<Figure size 1440x360 with 1 Axes>"
      ]
     },
     "metadata": {
      "needs_background": "light"
     },
     "output_type": "display_data"
    },
    {
     "data": {
      "image/png": "[encoded data removed]",
      "text/plain": [
       "<Figure size 1440x360 with 1 Axes>"
      ]
     },
     "metadata": {
      "needs_background": "light"
     },
     "output_type": "display_data"
    },
    {
     "data": {
      "image/png": "[encoded data removed]",
      "text/plain": [
       "<Figure size 1440x360 with 1 Axes>"
      ]
     },
     "metadata": {
      "needs_background": "light"
     },
     "output_type": "display_data"
    }
   ],
   "source": [
    "for col in cols:\n",
    "    plt.figure(figsize=(20,5))\n",
    "    sns.boxplot(y = \"payment_amount\",  hue = \"Cluster_id\" , x = col, data = data)"
   ]
  },
  {
   "cell_type": "code",
   "execution_count": 32,
   "metadata": {},
   "outputs": [
    {
     "data": {
      "text/html": [
       "<div>\n",
       "<style scoped>\n",
       "    .dataframe tbody tr th:only-of-type {\n",
       "        vertical-align: middle;\n",
       "    }\n",
       "\n",
       "    .dataframe tbody tr th {\n",
       "        vertical-align: top;\n",
       "    }\n",
       "\n",
       "    .dataframe thead th {\n",
       "        text-align: right;\n",
       "    }\n",
       "</style>\n",
       "<table border=\"1\" class=\"dataframe\">\n",
       "  <thead>\n",
       "    <tr style=\"text-align: right;\">\n",
       "      <th></th>\n",
       "      <th>sys</th>\n",
       "      <th>g_int_typ</th>\n",
       "      <th>g_bus_unit</th>\n",
       "      <th>gen_skill</th>\n",
       "      <th>lump_sum_typ_service_Code</th>\n",
       "      <th>payment_reason_type</th>\n",
       "      <th>payment_amount</th>\n",
       "      <th>recommending_user_code</th>\n",
       "      <th>Legal_Name</th>\n",
       "      <th>Cluster_id</th>\n",
       "    </tr>\n",
       "  </thead>\n",
       "  <tbody>\n",
       "    <tr>\n",
       "      <th>0</th>\n",
       "      <td>Gen&amp;Vet</td>\n",
       "      <td>inbound</td>\n",
       "      <td>WorkandIncome</td>\n",
       "      <td>WI_Gen_Advances</td>\n",
       "      <td>Hotels, Motels, Resorts</td>\n",
       "      <td>70</td>\n",
       "      <td>330.0</td>\n",
       "      <td>HYAT</td>\n",
       "      <td>TWC</td>\n",
       "      <td>2</td>\n",
       "    </tr>\n",
       "    <tr>\n",
       "      <th>1</th>\n",
       "      <td>Gen&amp;Vet</td>\n",
       "      <td>outbound</td>\n",
       "      <td>WorkandIncome</td>\n",
       "      <td>WI_Appointments</td>\n",
       "      <td>Eating Places, Restaurants</td>\n",
       "      <td>856</td>\n",
       "      <td>1300.0</td>\n",
       "      <td>GEHU</td>\n",
       "      <td>BL</td>\n",
       "      <td>0</td>\n",
       "    </tr>\n",
       "    <tr>\n",
       "      <th>2</th>\n",
       "      <td>Gen</td>\n",
       "      <td>inbound</td>\n",
       "      <td>WorkandIncome</td>\n",
       "      <td>WI_Appointments</td>\n",
       "      <td>Quick Payment Service-Fast-Food Restaurants</td>\n",
       "      <td>93</td>\n",
       "      <td>1400.0</td>\n",
       "      <td>OKAT</td>\n",
       "      <td>TPD</td>\n",
       "      <td>2</td>\n",
       "    </tr>\n",
       "    <tr>\n",
       "      <th>3</th>\n",
       "      <td>Gen&amp;Vet</td>\n",
       "      <td>outbound</td>\n",
       "      <td>WorkandIncome</td>\n",
       "      <td>WI_Appointments</td>\n",
       "      <td>Taxi Services</td>\n",
       "      <td>72</td>\n",
       "      <td>1400.0</td>\n",
       "      <td>GEHU</td>\n",
       "      <td>PKS</td>\n",
       "      <td>1</td>\n",
       "    </tr>\n",
       "    <tr>\n",
       "      <th>4</th>\n",
       "      <td>Gen</td>\n",
       "      <td>inbound</td>\n",
       "      <td>WorkandIncome</td>\n",
       "      <td>WI_Appointments</td>\n",
       "      <td>Hotels, Motels, Resorts</td>\n",
       "      <td>65</td>\n",
       "      <td>1100.0</td>\n",
       "      <td>LKUY</td>\n",
       "      <td>PKS</td>\n",
       "      <td>2</td>\n",
       "    </tr>\n",
       "    <tr>\n",
       "      <th>...</th>\n",
       "      <td>...</td>\n",
       "      <td>...</td>\n",
       "      <td>...</td>\n",
       "      <td>...</td>\n",
       "      <td>...</td>\n",
       "      <td>...</td>\n",
       "      <td>...</td>\n",
       "      <td>...</td>\n",
       "      <td>...</td>\n",
       "      <td>...</td>\n",
       "    </tr>\n",
       "    <tr>\n",
       "      <th>94</th>\n",
       "      <td>Gen</td>\n",
       "      <td>outbound</td>\n",
       "      <td>WorkandIncome</td>\n",
       "      <td>WI_Repeat_Caller</td>\n",
       "      <td>Package Stores, Beer, Wine, Liquor</td>\n",
       "      <td>90</td>\n",
       "      <td>230.0</td>\n",
       "      <td>GEHU</td>\n",
       "      <td>TPD</td>\n",
       "      <td>2</td>\n",
       "    </tr>\n",
       "    <tr>\n",
       "      <th>95</th>\n",
       "      <td>Gen</td>\n",
       "      <td>outbound</td>\n",
       "      <td>WorkandIncome</td>\n",
       "      <td>WI_Repeat_Caller</td>\n",
       "      <td>Travel Agencies and Tour Operators</td>\n",
       "      <td>90</td>\n",
       "      <td>630.0</td>\n",
       "      <td>GEHU</td>\n",
       "      <td>TPD</td>\n",
       "      <td>2</td>\n",
       "    </tr>\n",
       "    <tr>\n",
       "      <th>96</th>\n",
       "      <td>Gen</td>\n",
       "      <td>outbound</td>\n",
       "      <td>WorkandIncome</td>\n",
       "      <td>WI_Repeat_Caller</td>\n",
       "      <td>Travel Agencies and Tour Operators</td>\n",
       "      <td>90</td>\n",
       "      <td>500.0</td>\n",
       "      <td>LKUY</td>\n",
       "      <td>TPD</td>\n",
       "      <td>2</td>\n",
       "    </tr>\n",
       "    <tr>\n",
       "      <th>97</th>\n",
       "      <td>Gen</td>\n",
       "      <td>inbound</td>\n",
       "      <td>WorkandIncome</td>\n",
       "      <td>WI_Repeat_Caller</td>\n",
       "      <td>Taxi Services</td>\n",
       "      <td>90</td>\n",
       "      <td>1900.0</td>\n",
       "      <td>LKUY</td>\n",
       "      <td>TPD</td>\n",
       "      <td>1</td>\n",
       "    </tr>\n",
       "    <tr>\n",
       "      <th>98</th>\n",
       "      <td>Gen</td>\n",
       "      <td>outbound</td>\n",
       "      <td>WorkandIncome</td>\n",
       "      <td>WI_Repeat_Caller</td>\n",
       "      <td>Stationery, Office Supplies and Writing Paper</td>\n",
       "      <td>90</td>\n",
       "      <td>1900.0</td>\n",
       "      <td>LKUY</td>\n",
       "      <td>TPD</td>\n",
       "      <td>1</td>\n",
       "    </tr>\n",
       "  </tbody>\n",
       "</table>\n",
       "<p>99 rows × 10 columns</p>\n",
       "</div>"
      ],
      "text/plain": [
       "        sys g_int_typ     g_bus_unit         gen_skill  \\\n",
       "0   Gen&Vet   inbound  WorkandIncome   WI_Gen_Advances   \n",
       "1   Gen&Vet  outbound  WorkandIncome   WI_Appointments   \n",
       "2       Gen   inbound  WorkandIncome   WI_Appointments   \n",
       "3   Gen&Vet  outbound  WorkandIncome   WI_Appointments   \n",
       "4       Gen   inbound  WorkandIncome   WI_Appointments   \n",
       "..      ...       ...            ...               ...   \n",
       "94      Gen  outbound  WorkandIncome  WI_Repeat_Caller   \n",
       "95      Gen  outbound  WorkandIncome  WI_Repeat_Caller   \n",
       "96      Gen  outbound  WorkandIncome  WI_Repeat_Caller   \n",
       "97      Gen   inbound  WorkandIncome  WI_Repeat_Caller   \n",
       "98      Gen  outbound  WorkandIncome  WI_Repeat_Caller   \n",
       "\n",
       "                        lump_sum_typ_service_Code  payment_reason_type  \\\n",
       "0                         Hotels, Motels, Resorts                   70   \n",
       "1                      Eating Places, Restaurants                  856   \n",
       "2     Quick Payment Service-Fast-Food Restaurants                   93   \n",
       "3                                   Taxi Services                   72   \n",
       "4                         Hotels, Motels, Resorts                   65   \n",
       "..                                            ...                  ...   \n",
       "94             Package Stores, Beer, Wine, Liquor                   90   \n",
       "95             Travel Agencies and Tour Operators                   90   \n",
       "96             Travel Agencies and Tour Operators                   90   \n",
       "97                                  Taxi Services                   90   \n",
       "98  Stationery, Office Supplies and Writing Paper                   90   \n",
       "\n",
       "    payment_amount recommending_user_code Legal_Name  Cluster_id  \n",
       "0            330.0                   HYAT        TWC           2  \n",
       "1           1300.0                   GEHU         BL           0  \n",
       "2           1400.0                   OKAT        TPD           2  \n",
       "3           1400.0                   GEHU        PKS           1  \n",
       "4           1100.0                   LKUY        PKS           2  \n",
       "..             ...                    ...        ...         ...  \n",
       "94           230.0                   GEHU        TPD           2  \n",
       "95           630.0                   GEHU        TPD           2  \n",
       "96           500.0                   LKUY        TPD           2  \n",
       "97          1900.0                   LKUY        TPD           1  \n",
       "98          1900.0                   LKUY        TPD           1  \n",
       "\n",
       "[99 rows x 10 columns]"
      ]
     },
     "execution_count": 32,
     "metadata": {},
     "output_type": "execute_result"
    }
   ],
   "source": [
    "features"
   ]
  },
  {
   "cell_type": "code",
   "execution_count": 33,
   "metadata": {},
   "outputs": [
    {
     "data": {
      "text/plain": [
       "<pandas.core.groupby.generic.DataFrameGroupBy object at 0x000002275E793BE0>"
      ]
     },
     "execution_count": 33,
     "metadata": {},
     "output_type": "execute_result"
    }
   ],
   "source": [
    "group=features.groupby(features['Cluster_id'])\n",
    "group"
   ]
  },
  {
   "cell_type": "code",
   "execution_count": 34,
   "metadata": {},
   "outputs": [
    {
     "data": {
      "text/html": [
       "<div>\n",
       "<style scoped>\n",
       "    .dataframe tbody tr th:only-of-type {\n",
       "        vertical-align: middle;\n",
       "    }\n",
       "\n",
       "    .dataframe tbody tr th {\n",
       "        vertical-align: top;\n",
       "    }\n",
       "\n",
       "    .dataframe thead th {\n",
       "        text-align: right;\n",
       "    }\n",
       "</style>\n",
       "<table border=\"1\" class=\"dataframe\">\n",
       "  <thead>\n",
       "    <tr style=\"text-align: right;\">\n",
       "      <th></th>\n",
       "      <th>sys</th>\n",
       "      <th>g_int_typ</th>\n",
       "      <th>g_bus_unit</th>\n",
       "      <th>gen_skill</th>\n",
       "      <th>lump_sum_typ_service_Code</th>\n",
       "      <th>payment_reason_type</th>\n",
       "      <th>payment_amount</th>\n",
       "      <th>recommending_user_code</th>\n",
       "      <th>Legal_Name</th>\n",
       "      <th>Cluster_id</th>\n",
       "    </tr>\n",
       "  </thead>\n",
       "  <tbody>\n",
       "    <tr>\n",
       "      <th>0</th>\n",
       "      <td>Gen&amp;Vet</td>\n",
       "      <td>outbound</td>\n",
       "      <td>WorkandIncome</td>\n",
       "      <td>WI_Appointments</td>\n",
       "      <td>Eating Places, Restaurants</td>\n",
       "      <td>856</td>\n",
       "      <td>1300.0</td>\n",
       "      <td>GEHU</td>\n",
       "      <td>BL</td>\n",
       "      <td>0</td>\n",
       "    </tr>\n",
       "    <tr>\n",
       "      <th>1</th>\n",
       "      <td>Gen&amp;Vet</td>\n",
       "      <td>outbound</td>\n",
       "      <td>WorkandIncome</td>\n",
       "      <td>WI_Seniors</td>\n",
       "      <td>Air Canada</td>\n",
       "      <td>856</td>\n",
       "      <td>720.0</td>\n",
       "      <td>GEHU</td>\n",
       "      <td>PKS</td>\n",
       "      <td>0</td>\n",
       "    </tr>\n",
       "    <tr>\n",
       "      <th>2</th>\n",
       "      <td>Gen&amp;Vet</td>\n",
       "      <td>inbound</td>\n",
       "      <td>StudyLink</td>\n",
       "      <td>WI_Seniors</td>\n",
       "      <td>Travel Agencies and Tour Operators</td>\n",
       "      <td>856</td>\n",
       "      <td>500.0</td>\n",
       "      <td>GEHU</td>\n",
       "      <td>PKS</td>\n",
       "      <td>0</td>\n",
       "    </tr>\n",
       "    <tr>\n",
       "      <th>3</th>\n",
       "      <td>Gen&amp;Vet</td>\n",
       "      <td>outbound</td>\n",
       "      <td>Seniors</td>\n",
       "      <td>WI_Seniors</td>\n",
       "      <td>Quick Payment Service-Fast-Food Restaurants</td>\n",
       "      <td>856</td>\n",
       "      <td>1250.0</td>\n",
       "      <td>GEHU</td>\n",
       "      <td>PKS</td>\n",
       "      <td>0</td>\n",
       "    </tr>\n",
       "    <tr>\n",
       "      <th>4</th>\n",
       "      <td>Gen</td>\n",
       "      <td>inbound</td>\n",
       "      <td>WorkandIncome</td>\n",
       "      <td>WI_Seniors</td>\n",
       "      <td>Quick Payment Service-Fast-Food Restaurants</td>\n",
       "      <td>856</td>\n",
       "      <td>680.0</td>\n",
       "      <td>GEHU</td>\n",
       "      <td>PKS</td>\n",
       "      <td>0</td>\n",
       "    </tr>\n",
       "  </tbody>\n",
       "</table>\n",
       "</div>"
      ],
      "text/plain": [
       "       sys g_int_typ     g_bus_unit        gen_skill  \\\n",
       "0  Gen&Vet  outbound  WorkandIncome  WI_Appointments   \n",
       "1  Gen&Vet  outbound  WorkandIncome       WI_Seniors   \n",
       "2  Gen&Vet   inbound      StudyLink       WI_Seniors   \n",
       "3  Gen&Vet  outbound        Seniors       WI_Seniors   \n",
       "4      Gen   inbound  WorkandIncome       WI_Seniors   \n",
       "\n",
       "                     lump_sum_typ_service_Code  payment_reason_type  \\\n",
       "0                   Eating Places, Restaurants                  856   \n",
       "1                                   Air Canada                  856   \n",
       "2           Travel Agencies and Tour Operators                  856   \n",
       "3  Quick Payment Service-Fast-Food Restaurants                  856   \n",
       "4  Quick Payment Service-Fast-Food Restaurants                  856   \n",
       "\n",
       "   payment_amount recommending_user_code Legal_Name  Cluster_id  \n",
       "0          1300.0                   GEHU         BL           0  \n",
       "1           720.0                   GEHU        PKS           0  \n",
       "2           500.0                   GEHU        PKS           0  \n",
       "3          1250.0                   GEHU        PKS           0  \n",
       "4           680.0                   GEHU        PKS           0  "
      ]
     },
     "execution_count": 34,
     "metadata": {},
     "output_type": "execute_result"
    }
   ],
   "source": [
    "cluster0=group.get_group(0)\n",
    "cluster0=cluster0.reset_index()\n",
    "del cluster0['index']\n",
    "cluster0.head()"
   ]
  },
  {
   "cell_type": "code",
   "execution_count": 35,
   "metadata": {},
   "outputs": [],
   "source": [
    "#cluster0.to_excel(\"cluster0.xlsx\")"
   ]
  }
 ],
 "metadata": {
  "colab": {
   "collapsed_sections": [
    "dgryeXlS-3jn"
   ],
   "name": "PCA_KMeans_Debanjan.ipynb",
   "provenance": []
  },
  "kernelspec": {
   "display_name": "Python 3",
   "language": "python",
   "name": "python3"
  },
  "language_info": {
   "codemirror_mode": {
    "name": "ipython",
    "version": 3
   },
   "file_extension": ".py",
   "mimetype": "text/x-python",
   "name": "python",
   "nbconvert_exporter": "python",
   "pygments_lexer": "ipython3",
   "version": "3.8.5"
  }
 },
 "nbformat": 4,
 "nbformat_minor": 1
}
